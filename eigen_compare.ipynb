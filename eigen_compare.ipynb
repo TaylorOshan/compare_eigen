{
 "cells": [
  {
   "cell_type": "code",
   "execution_count": 326,
   "metadata": {
    "collapsed": true
   },
   "outputs": [],
   "source": [
    "import os\n",
    "import numpy as np\n",
    "import pandas as pd\n",
    "import scipy.stats as stat\n",
    "import numpy.linalg as LA\n",
    "import pysal\n",
    "from pysal.esda.moran import Moran\n",
    "import rpy2.robjects as ro\n",
    "from rpy2.robjects.packages import importr\n",
    "import rpy2.robjects.numpy2ri\n",
    "rpy2.robjects.numpy2ri.activate()"
   ]
  },
  {
   "cell_type": "code",
   "execution_count": 357,
   "metadata": {
    "collapsed": false
   },
   "outputs": [],
   "source": [
    "#Compute Eigenvalues and Eigenvectors from the \n",
    "#transformed Spatial weights Matrix usuibg python/numpy\n",
    "\n",
    "#It says in the paper that a rook-case binary contiguity wieghts matrix\n",
    "#is being used, so that is what I employ here.\n",
    "neighbor_list = '/users/toshan/projects/GWR_SF/georgia_rook.gal'\n",
    "style = 'b'\n",
    "\n",
    "\n",
    "w = pysal.open(neighbor_list).read()\n",
    "w.transform = style\n",
    "C, ids = pysal.full(w)\n",
    "#C = 0.5 * (C + C.T)\n",
    "n = C.shape[0]\n",
    "M = np.identity(n) - (np.float(1)/np.float(n))\n",
    "MCM = np.dot(np.dot(M,C),M)\n",
    "vals, vecs = LA.eig(MCM)\n",
    "\n",
    "pairs = zip(vals, vecs)\n",
    "svals = sorted(vals, reverse=True)\n",
    "\n",
    "\n",
    "stups = [None] * len(svals)\n",
    "for e_val, vector in pairs:\n",
    "    stups[svals.index(e_val)] = (e_val, vector)"
   ]
  },
  {
   "cell_type": "code",
   "execution_count": 358,
   "metadata": {
    "collapsed": false
   },
   "outputs": [],
   "source": [
    "new_vecs = [x[1] for x in stups]\n",
    "new_vals = [x[0] for x in stups]"
   ]
  },
  {
   "cell_type": "code",
   "execution_count": 359,
   "metadata": {
    "collapsed": false
   },
   "outputs": [],
   "source": [
    "#Compute Eigenvalues and Eigenvectors from the \n",
    "#transformed Spatial weights Matrix using R\n",
    "\n",
    "#It says in the paper that a rook-case binary contiguity wieghts matrix\n",
    "#is being used, so that is what I employ here.\n",
    "spdep = importr(\"spdep\")\n",
    "georgia_rook = spdep.read_gal(\"/Users/toshan/projects/GWR_SF/georgia_rook.gal\", override_id = True)\n",
    "base = importr(\"base\")\n",
    "\n",
    "M_r = np.array(ro.r('diag(1,159)-1/159'))\n",
    "C_r = spdep.nb2listw(georgia_rook, style=\"B\")\n",
    "C_r = np.array(spdep.listw2mat(C_r))\n",
    "\n",
    "ro.globalenv[\"M_r\"] = M_r\n",
    "ro.globalenv[\"C_r\"] = C_r\n",
    "\n",
    "MCM_r = ro.r('M_r%*%C_r%*%M_r')\n",
    "ro.globalenv[\"MCM_r\"] = MCM_r\n",
    "\n",
    "vals_r, vecs_r = MCM_r.eigen()\n",
    "vals_r, vecs_r = np.array(vals_r), np.array(vecs_r)"
   ]
  },
  {
   "cell_type": "code",
   "execution_count": 378,
   "metadata": {
    "collapsed": false
   },
   "outputs": [],
   "source": [
    "#Correlations for sorted Python eigenvectors and R eigenvectors\n",
    "s_cors = []\n",
    "for i, vec in enumerate(new_vecs):\n",
    "    s_cors.append(stat.pearsonr(vec, vecs_r[i])[0])\n",
    "s_cors = np.array(s_cors)\n"
   ]
  },
  {
   "cell_type": "code",
   "execution_count": 379,
   "metadata": {
    "collapsed": false
   },
   "outputs": [],
   "source": [
    "#Correlations for unsorted Python eigenvectors and R eigenvectors\n",
    "cors = []\n",
    "for i, vec in enumerate(vecs):\n",
    "    cors.append(stat.pearsonr(vec, vecs_r[i])[0])\n",
    "cors = np.array(cors)\n"
   ]
  },
  {
   "cell_type": "code",
   "execution_count": 380,
   "metadata": {
    "collapsed": false
   },
   "outputs": [
    {
     "name": "stdout",
     "output_type": "stream",
     "text": [
      "True\n",
      "False\n",
      "False\n",
      "False\n"
     ]
    }
   ],
   "source": [
    "print np.allclose(new_vals, vals_r)\n",
    "print np.allclose(vals, vals_r)\n",
    "print np.allclose(vals, new_vals)\n",
    "print np.allclose(cors, s_cors)\n",
    "\n"
   ]
  },
  {
   "cell_type": "code",
   "execution_count": 383,
   "metadata": {
    "collapsed": false
   },
   "outputs": [
    {
     "data": {
      "text/plain": [
       "array([], dtype=float64)"
      ]
     },
     "execution_count": 383,
     "metadata": {},
     "output_type": "execute_result"
    }
   ],
   "source": [
    "cors[cors > .25]\n",
    "s_cors[s_cors > .25]"
   ]
  },
  {
   "cell_type": "code",
   "execution_count": 356,
   "metadata": {
    "collapsed": false
   },
   "outputs": [
    {
     "name": "stdout",
     "output_type": "stream",
     "text": [
      "True\n",
      "True\n",
      "False\n",
      "True\n",
      "True\n",
      "False\n"
     ]
    }
   ],
   "source": [
    "#Same results for Spatial Weight\n",
    "print np.array_equal(C_r, C)\n",
    "\n",
    "#Same results for M\n",
    "print np.array_equal(M_r, M)\n",
    "\n",
    "#Results for MCM vary slightly between R and Pthyon - seems like rounding errors\n",
    "print np.array_equal(MCM_r, MCM)\n",
    "\n",
    "#Rounding to the 14th digit results in consistent MCM between R and Python\n",
    "print np.array_equal(np.round(MCM_r, decimals=14), np.round(MCM, decimals=14))\n",
    "\n",
    "                     \n",
    "#Same results for Eigenvalues if we similarly round them after sorting them\n",
    "print np.array_equal(np.sort(np.round(vals,11)), np.sort(np.round(vals_r,11)))\n",
    "\n",
    "#Same does not hold for Eigenvectors, which led me to the fact that the python and R eigenvectors\n",
    "#were provided in differnt orders\n",
    "print np.array_equal(np.sort(np.round(vecs,4)), np.sort(np.round(vecs_r,4)))"
   ]
  },
  {
   "cell_type": "code",
   "execution_count": 178,
   "metadata": {
    "collapsed": false
   },
   "outputs": [
    {
     "name": "stdout",
     "output_type": "stream",
     "text": [
      "0.313731663628\n"
     ]
    }
   ],
   "source": [
    "#Great, We've got some Eigenvectors! Lets try plugging them into\n",
    "#the formulas provided in the paper.\n",
    "\n",
    "#First we need to extract the top 40 eigenvectors with the highest eigenvalues\n",
    "#We'll add them to a pandas DF for ease.\n",
    "\n",
    "os.chdir('/users/toshan/projects/GWR_SF/')\n",
    "georgia = pd.read_csv('georgia.csv')\n",
    "\n",
    "for x, eig in enumerate(vecs[:40]):\n",
    "    georgia['E' + str(x+1)] = eig\n",
    "\n",
    "intercept = 11.65947\n",
    "elderly = .01827 - .57455*georgia['E7'] + 2.68529*georgia['E9'] - 1.43008*georgia['E32']\n",
    "pop = .0004740 + .00053444*georgia['E5'] - .0034627*georgia['E21'] + .00027500*georgia['E28'] + .00008588*georgia['E29'] - .00049085*georgia['E37'] + .0052024*georgia['E38']\n",
    "rural = -.02164 - .40283*georgia['E9'] - .07260*georgia['E17'] - .29333*georgia['E23'] - .21945*georgia['E30'] + .17920*georgia['E37']\n",
    "foreign = 2.53632 + 7.88189*georgia['E1'] + 14.51402*georgia['E2'] - 4.80336*georgia['E4'] - 10.02322*georgia['E5'] - 9.54772*georgia['E9'] + 6.13165*georgia['E13'] + 4.46841*georgia['E15'] - 8.26015*georgia['E20'] + 8.95200*georgia['E22'] + 3.31062*georgia['E25'] - 8.83627*georgia['E28'] - 6.88889*georgia['E32'] - 17.36410*georgia['E38'] + 5.23183*georgia['E40']\n",
    "poverty = -.26300 + .80033*georgia['E23'] + .26817*georgia['E28'] + .54815*georgia['E30']\n",
    "black = .06104 - .7218*georgia['E1'] + .13764*georgia['E21'] - .17630*georgia['E22'] + .65026*georgia['E32']\n",
    "\n",
    "georgia['yhat'] = intercept + elderly*georgia['PctEld'] + pop*georgia['TotPop90'] + rural*georgia['PctRural'] + foreign*georgia['PctFB'] + poverty*georgia['PctPov'] + black*georgia['PctBlack']\n",
    "print stat.pearsonr(georgia['PctBach'], georgia['yhat'])[0]**2"
   ]
  },
  {
   "cell_type": "code",
   "execution_count": 179,
   "metadata": {
    "collapsed": false
   },
   "outputs": [
    {
     "data": {
      "text/plain": [
       "[0.10448653361131389,\n",
       " 0.076140779515824611,\n",
       " 0.072720103656055343,\n",
       " 0.066742103014807236,\n",
       " 0.062247974045844347,\n",
       " 0.058050034998503523,\n",
       " 0.057977498647291632,\n",
       " 0.045549148999462982,\n",
       " 0.037783834296204792,\n",
       " 0.037624002443017224,\n",
       " 0.03640423981342597,\n",
       " 0.028449480400275538,\n",
       " 0.025053904776756328,\n",
       " 0.018336882539394746,\n",
       " 0.013977439715316259,\n",
       " 0.013031579949651113,\n",
       " 0.010503431093578939,\n",
       " 0.0077354210591788035,\n",
       " -0.00075475127515737606,\n",
       " -0.00090198026256855981,\n",
       " -0.0019608260931500438,\n",
       " -0.0031493798712722855,\n",
       " -0.0051250815817740023,\n",
       " -0.0067279709707271981,\n",
       " -0.011566697762258073,\n",
       " -0.016639608601696439,\n",
       " -0.018480415430264446,\n",
       " -0.019313043753337724,\n",
       " -0.02452887472720491,\n",
       " -0.026149476224149454,\n",
       " -0.02805140350859053,\n",
       " -0.040993113916661592,\n",
       " -0.049049818585298013,\n",
       " -0.05545582343064924,\n",
       " -0.058172131148083756,\n",
       " -0.060466032597548798,\n",
       " -0.066596352997525421,\n",
       " -0.082326781208239511,\n",
       " -0.085567147878208183,\n",
       " -0.090293544448943996]"
      ]
     },
     "execution_count": 179,
     "metadata": {},
     "output_type": "execute_result"
    }
   ],
   "source": [
    "#Not very close to the reported fit of 0.93\n",
    "#But wait, lets see if our eigenvalues are close to theirs.\n",
    "#If we looked at the vals we'd see that they're not scaled to the\n",
    "#general Moran's domain (-1,1) since we used a binary weight. The paper\n",
    "#actually reports Moran's coefficients instead of actualy eigenvalues so\n",
    "#lets take a look at the top 40 eigenvector's MC's\n",
    "\n",
    "w = pysal.open(neighbor_list).read()\n",
    "MI = []\n",
    "for each in vecs[:40]:\n",
    "    m = Moran(each, w, transformation='b')\n",
    "    MI.append(m.I)\n",
    "    \n",
    "MI.sort(reverse=True)\n",
    "MI"
   ]
  },
  {
   "cell_type": "code",
   "execution_count": 180,
   "metadata": {
    "collapsed": false
   },
   "outputs": [
    {
     "data": {
      "text/plain": [
       "[1.0790660847227049,\n",
       " 1.0418805220804448,\n",
       " 1.0254977042841851,\n",
       " 0.98288559452996738,\n",
       " 0.94308034331807766,\n",
       " 0.92444784132219193,\n",
       " 0.90495775740328233,\n",
       " 0.85669143119083457,\n",
       " 0.85115772662466915,\n",
       " 0.83438328129510331,\n",
       " 0.79659733031871272,\n",
       " 0.77749974310264747,\n",
       " 0.76292173407078001,\n",
       " 0.73623347723171972,\n",
       " 0.70575011581586544,\n",
       " 0.67969050969027489,\n",
       " 0.65225770070344014,\n",
       " 0.64421442458043721,\n",
       " 0.62934596196578274,\n",
       " 0.60447710019149792,\n",
       " 0.5841577446836167,\n",
       " 0.57732643351044288,\n",
       " 0.54222417708678006,\n",
       " 0.52866738622362475,\n",
       " 0.50942277926472168,\n",
       " 0.49567322553247867,\n",
       " 0.46708533059505353,\n",
       " 0.45097228173196219,\n",
       " 0.43662916903997762,\n",
       " 0.42817432335901945,\n",
       " 0.3996026601284049,\n",
       " 0.37967473255956191,\n",
       " 0.36164779405152925,\n",
       " 0.35274354867300139,\n",
       " 0.34757301695302945,\n",
       " 0.33140953215011926,\n",
       " 0.32290682938587134,\n",
       " 0.31160329742398585,\n",
       " 0.30711081186478345,\n",
       " 0.27733499873276879]"
      ]
     },
     "execution_count": 180,
     "metadata": {},
     "output_type": "execute_result"
    }
   ],
   "source": [
    "#Well thats strange, there seems to be no SA, when by definition there should be.\n",
    "#Lets try peeling them off the opposite dimension by using vals.T instead of vals\n",
    "\n",
    "w = pysal.open(neighbor_list).read()\n",
    "MI = []\n",
    "for each in vecs.T[:40]:\n",
    "    m = Moran(each, w, transformation='b')\n",
    "    MI.append(m.I)\n",
    "    \n",
    "MI.sort(reverse=True)\n",
    "MI"
   ]
  },
  {
   "cell_type": "code",
   "execution_count": 181,
   "metadata": {
    "collapsed": false
   },
   "outputs": [
    {
     "name": "stdout",
     "output_type": "stream",
     "text": [
      "0.460927034654\n"
     ]
    }
   ],
   "source": [
    "#These eigenvalues are very close to those presented in the paper,\n",
    "#except they are consistently slightly lower. Let's see how well we \n",
    "#can reproduce their formulas using vecs.T instead of vecs.\n",
    "\n",
    "for x, eig in enumerate(vecs.T[:40]):\n",
    "    georgia['E' + str(x+1)] = eig\n",
    "\n",
    "intercept = 11.65947\n",
    "elderly = .01827 - .57455*georgia['E7'] + 2.68529*georgia['E9'] - 1.43008*georgia['E32']\n",
    "pop = .0004740 + .00053444*georgia['E5'] - .0034627*georgia['E21'] + .00027500*georgia['E28'] + .00008588*georgia['E29'] - .00049085*georgia['E37'] + .0052024*georgia['E38']\n",
    "rural = -.02164 - .40283*georgia['E9'] - .07260*georgia['E17'] - .29333*georgia['E23'] - .21945*georgia['E30'] + .17920*georgia['E37']\n",
    "foreign = 2.53632 + 7.88189*georgia['E1'] + 14.51402*georgia['E2'] - 4.80336*georgia['E4'] - 10.02322*georgia['E5'] - 9.54772*georgia['E9'] + 6.13165*georgia['E13'] + 4.46841*georgia['E15'] - 8.26015*georgia['E20'] + 8.95200*georgia['E22'] + 3.31062*georgia['E25'] - 8.83627*georgia['E28'] - 6.88889*georgia['E32'] - 17.36410*georgia['E38'] + 5.23183*georgia['E40']\n",
    "poverty = -.26300 + .80033*georgia['E23'] + .26817*georgia['E28'] + .54815*georgia['E30']\n",
    "black = .06104 - .7218*georgia['E1'] + .13764*georgia['E21'] - .17630*georgia['E22'] + .65026*georgia['E32']\n",
    "\n",
    "georgia['yhat'] = intercept + elderly*georgia['PctEld'] + pop*georgia['TotPop90'] + rural*georgia['PctRural'] + foreign*georgia['PctFB'] + poverty*georgia['PctPov'] + black*georgia['PctBlack']\n",
    "print stat.pearsonr(georgia['PctBach'], georgia['yhat'])[0]**2"
   ]
  },
  {
   "cell_type": "code",
   "execution_count": 182,
   "metadata": {
    "collapsed": false
   },
   "outputs": [
    {
     "name": "stdout",
     "output_type": "stream",
     "text": [
      "0.145357636666\n"
     ]
    }
   ],
   "source": [
    "#Ok slightly better but still nowhere near theirs. There is the issue of the \n",
    "#non-sorted eigenvectors/vals so lets try this again with the results from R \n",
    "#that seem to be sorted.\n",
    "\n",
    "for x, eig in enumerate(vecs_r[:40]):\n",
    "    georgia['E' + str(x+1)] = eig\n",
    "\n",
    "intercept = 11.65947\n",
    "elderly = .01827 - .57455*georgia['E7'] + 2.68529*georgia['E9'] - 1.43008*georgia['E32']\n",
    "pop = .0004740 + .00053444*georgia['E5'] - .0034627*georgia['E21'] + .00027500*georgia['E28'] + .00008588*georgia['E29'] - .00049085*georgia['E37'] + .0052024*georgia['E38']\n",
    "rural = -.02164 - .40283*georgia['E9'] - .07260*georgia['E17'] - .29333*georgia['E23'] - .21945*georgia['E30'] + .17920*georgia['E37']\n",
    "foreign = 2.53632 + 7.88189*georgia['E1'] + 14.51402*georgia['E2'] - 4.80336*georgia['E4'] - 10.02322*georgia['E5'] - 9.54772*georgia['E9'] + 6.13165*georgia['E13'] + 4.46841*georgia['E15'] - 8.26015*georgia['E20'] + 8.95200*georgia['E22'] + 3.31062*georgia['E25'] - 8.83627*georgia['E28'] - 6.88889*georgia['E32'] - 17.36410*georgia['E38'] + 5.23183*georgia['E40']\n",
    "poverty = -.26300 + .80033*georgia['E23'] + .26817*georgia['E28'] + .54815*georgia['E30']\n",
    "black = .06104 - .7218*georgia['E1'] + .13764*georgia['E21'] - .17630*georgia['E22'] + .65026*georgia['E32']\n",
    "\n",
    "georgia['yhat'] = intercept + elderly*georgia['PctEld'] + pop*georgia['TotPop90'] + rural*georgia['PctRural'] + foreign*georgia['PctFB'] + poverty*georgia['PctPov'] + black*georgia['PctBlack']\n",
    "print stat.pearsonr(georgia['PctBach'], georgia['yhat'])[0]**2"
   ]
  },
  {
   "cell_type": "code",
   "execution_count": 183,
   "metadata": {
    "collapsed": false
   },
   "outputs": [
    {
     "name": "stdout",
     "output_type": "stream",
     "text": [
      "0.359500877476\n"
     ]
    }
   ],
   "source": [
    "# And for the other dimension of vecs.\n",
    "\n",
    "for x, eig in enumerate(vecs_r.T[:40]):\n",
    "    georgia['E' + str(x+1)] = eig\n",
    "\n",
    "intercept = 11.65947\n",
    "elderly = .01827 - .57455*georgia['E7'] + 2.68529*georgia['E9'] - 1.43008*georgia['E32']\n",
    "pop = .0004740 + .00053444*georgia['E5'] - .0034627*georgia['E21'] + .00027500*georgia['E28'] + .00008588*georgia['E29'] - .00049085*georgia['E37'] + .0052024*georgia['E38']\n",
    "rural = -.02164 - .40283*georgia['E9'] - .07260*georgia['E17'] - .29333*georgia['E23'] - .21945*georgia['E30'] + .17920*georgia['E37']\n",
    "foreign = 2.53632 + 7.88189*georgia['E1'] + 14.51402*georgia['E2'] - 4.80336*georgia['E4'] - 10.02322*georgia['E5'] - 9.54772*georgia['E9'] + 6.13165*georgia['E13'] + 4.46841*georgia['E15'] - 8.26015*georgia['E20'] + 8.95200*georgia['E22'] + 3.31062*georgia['E25'] - 8.83627*georgia['E28'] - 6.88889*georgia['E32'] - 17.36410*georgia['E38'] + 5.23183*georgia['E40']\n",
    "poverty = -.26300 + .80033*georgia['E23'] + .26817*georgia['E28'] + .54815*georgia['E30']\n",
    "black = .06104 - .7218*georgia['E1'] + .13764*georgia['E21'] - .17630*georgia['E22'] + .65026*georgia['E32']\n",
    "\n",
    "georgia['yhat'] = intercept + elderly*georgia['PctEld'] + pop*georgia['TotPop90'] + rural*georgia['PctRural'] + foreign*georgia['PctFB'] + poverty*georgia['PctPov'] + black*georgia['PctBlack']\n",
    "print stat.pearsonr(georgia['PctBach'], georgia['yhat'])[0]**2"
   ]
  },
  {
   "cell_type": "code",
   "execution_count": 184,
   "metadata": {
    "collapsed": false
   },
   "outputs": [],
   "source": [
    "#Better than the previous dimension, but lower than the potentially unsorted python results.\n",
    "\n",
    "#False alarm on the incorrect dimension argument. But The fact the \n",
    "#Pythyon unsorted results perform better than the sorted R results could be\n",
    "#problematic. \n",
    "\n",
    "#Must find a way to match my Eigenvectors/vals/MC's to the ones reported in the paper. \n",
    "#Otherwise validation will be useless. \n",
    "\n"
   ]
  }
 ],
 "metadata": {
  "kernelspec": {
   "display_name": "Python 2",
   "language": "python",
   "name": "python2"
  },
  "language_info": {
   "codemirror_mode": {
    "name": "ipython",
    "version": 2
   },
   "file_extension": ".py",
   "mimetype": "text/x-python",
   "name": "python",
   "nbconvert_exporter": "python",
   "pygments_lexer": "ipython2",
   "version": "2.7.9"
  }
 },
 "nbformat": 4,
 "nbformat_minor": 0
}
